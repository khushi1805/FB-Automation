{
 "cells": [
  {
   "cell_type": "markdown",
   "metadata": {},
   "source": [
    "## Import all the necessary libraries"
   ]
  },
  {
   "cell_type": "code",
   "execution_count": 37,
   "metadata": {},
   "outputs": [],
   "source": [
    "from selenium import webdriver\n",
    "import time\n",
    "from selenium.webdriver.common.keys import Keys\n",
    "from time import sleep\n",
    "from selenium.webdriver.support import expected_conditions as EC\n",
    "from selenium.common.exceptions import TimeoutException\n",
    "from selenium.webdriver.support.ui import WebDriverWait\n",
    "from selenium.webdriver.support.ui import Select\n",
    "from selenium.webdriver.common.by import By\n",
    "from selenium.common.exceptions import NoSuchElementException"
   ]
  },
  {
   "cell_type": "markdown",
   "metadata": {},
   "source": [
    "## Initialising chrome in selenium web driver"
   ]
  },
  {
   "cell_type": "code",
   "execution_count": 152,
   "metadata": {},
   "outputs": [
    {
     "name": "stdout",
     "output_type": "stream",
     "text": [
      "Opened facebook...\n"
     ]
    }
   ],
   "source": [
    "#executable_path=r'C:\\bin\\chromedriver.exe'\n",
    "options = webdriver.ChromeOptions()\n",
    "prefs = {\"profile.default_content_setting_values.notifications\": 2}  #to block the pop up notifications\n",
    "options.add_experimental_option(\"prefs\", prefs)\n",
    "driver = webdriver.Chrome(options=options)\n",
    "driver.maximize_window()\n",
    "driver.get('https://www.facebook.com/login.php?login_attempt=1&lwv=110')\n",
    "print(\"Opened facebook...\")"
   ]
  },
  {
   "cell_type": "markdown",
   "metadata": {},
   "source": [
    "##  Enter your email and password to login"
   ]
  },
  {
   "cell_type": "code",
   "execution_count": 153,
   "metadata": {},
   "outputs": [
    {
     "name": "stdout",
     "output_type": "stream",
     "text": [
      "Email Id entered...\n",
      "Password entered...\n"
     ]
    }
   ],
   "source": [
    "user_name = \"--------\"  #enter facebook mail id\n",
    "password = \"--------\"   #enter password\n",
    "element = driver.find_element_by_id(\"email\")\n",
    "element.send_keys(user_name)\n",
    "print(\"Email Id entered...\")\n",
    "element = driver.find_element_by_id(\"pass\")\n",
    "element.send_keys(password)\n",
    "print(\"Password entered...\")"
   ]
  },
  {
   "cell_type": "code",
   "execution_count": 154,
   "metadata": {},
   "outputs": [
    {
     "name": "stdout",
     "output_type": "stream",
     "text": [
      "FB opened\n"
     ]
    }
   ],
   "source": [
    "button = driver.find_element_by_id('loginbutton')\n",
    "button.click()\n",
    "print(\"FB opened\")"
   ]
  },
  {
   "cell_type": "markdown",
   "metadata": {},
   "source": [
    "## Posting message status on timeline"
   ]
  },
  {
   "cell_type": "code",
   "execution_count": 27,
   "metadata": {},
   "outputs": [
    {
     "name": "stdout",
     "output_type": "stream",
     "text": [
      "Post created\n"
     ]
    }
   ],
   "source": [
    "wait = WebDriverWait(driver, 5)\n",
    "element = wait.until(EC.element_to_be_clickable((By.XPATH, \"/html/body/div[1]/div/div[1]/div[1]/div[3]/div/div/div[1]/div[1]/div/div[2]/div/div/div[3]/div/div[2]/div/div/div/div[1]/div/div[1]/span\")))\n",
    "element.click()\n",
    "sleep(5)\n",
    "print(\"Opened the textbox..\")"
   ]
  },
  {
   "cell_type": "code",
   "execution_count": 28,
   "metadata": {},
   "outputs": [
    {
     "name": "stdout",
     "output_type": "stream",
     "text": [
      "brb\n"
     ]
    }
   ],
   "source": [
    "# you can either take input from user or directly type the message\n",
    "#msg = input()\n",
    "driver.switch_to.active_element.send_keys('Hey') "
   ]
  },
  {
   "cell_type": "code",
   "execution_count": 29,
   "metadata": {},
   "outputs": [
    {
     "name": "stdout",
     "output_type": "stream",
     "text": [
      "Posted on Timeline\n"
     ]
    }
   ],
   "source": [
    "element = wait.until(EC.element_to_be_clickable((By.XPATH, \"/html/body/div[1]/div/div[1]/div/div[4]/div/div/div[1]/div/div[2]/div/div/div/form/div/div[1]/div/div/div[3]/div[2]/div/div[1]\")))\n",
    "element.click()\n",
    "sleep(5)\n",
    "print(\"Posted on Timeline..\")"
   ]
  },
  {
   "cell_type": "markdown",
   "metadata": {},
   "source": [
    "## Going to your timeline and acessing friend list"
   ]
  },
  {
   "cell_type": "code",
   "execution_count": 155,
   "metadata": {},
   "outputs": [
    {
     "name": "stdout",
     "output_type": "stream",
     "text": [
      "Reached Timeline\n"
     ]
    }
   ],
   "source": [
    "wait = WebDriverWait(driver, 5)\n",
    "element = wait.until(EC.element_to_be_clickable((By.XPATH, \"/html/body/div[1]/div/div[1]/div/div[3]/div/div/div[1]/div[1]/div/div[2]/div/div/div[3]/div/div[2]/div/div/div/div[1]/a/div[1]/div\")))\n",
    "element.click()\n",
    "sleep(5)\n",
    "print(\"Reached Timeline\")"
   ]
  },
  {
   "cell_type": "code",
   "execution_count": 157,
   "metadata": {},
   "outputs": [
    {
     "name": "stdout",
     "output_type": "stream",
     "text": [
      "Opened Friendlist\n"
     ]
    }
   ],
   "source": [
    "element = wait.until(EC.element_to_be_clickable((By.XPATH, \"/html/body/div[1]/div/div[1]/div/div[3]/div/div/div[1]/div[1]/div/div/div[3]/div/div/div/div[1]/div/div/div[1]/div/div/div/div/div/div/a[3]/div[1]/span\")))\n",
    "element.click()\n",
    "sleep(5)\n",
    "print(\"Opened Friendlist\")"
   ]
  },
  {
   "cell_type": "code",
   "execution_count": 147,
   "metadata": {},
   "outputs": [
    {
     "name": "stdout",
     "output_type": "stream",
     "text": [
      "Scrolling..\n",
      "Scrolling..\n",
      "Scrolling..\n",
      "Scrolling..\n",
      "Scrolling..\n",
      "Scrolling..\n"
     ]
    }
   ],
   "source": [
    "for i in range(6):\n",
    "    print(\"Scrolling..\")\n",
    "    driver.execute_script(\"window.scrollBy(0, 1000)\")\n",
    "    time.sleep(1)"
   ]
  },
  {
   "cell_type": "markdown",
   "metadata": {},
   "source": [
    "## Opening friend's timeline and commenting on his recent post"
   ]
  },
  {
   "cell_type": "code",
   "execution_count": 158,
   "metadata": {},
   "outputs": [],
   "source": [
    "#add name of your friend from your friendlist\n",
    "element = wait.until(EC.element_to_be_clickable((By.XPATH, \"//*[text()='abc xyz']\"))) # text = enter name of your friend here - ''\n",
    "element.click()"
   ]
  },
  {
   "cell_type": "code",
   "execution_count": 161,
   "metadata": {},
   "outputs": [],
   "source": [
    "driver.execute_script(\"window.scrollTo(0,1000)\")\n",
    "sleep(7)"
   ]
  },
  {
   "cell_type": "code",
   "execution_count": 162,
   "metadata": {},
   "outputs": [],
   "source": [
    "element = wait.until(EC.element_to_be_clickable((By.XPATH,\"/html/body/div[1]/div/div[1]/div/div[3]/div/div/div[1]/div[1]/div/div/div[4]/div[2]/div/div[2]/div[3]/div[1]/div/div/div/div/div/div/div/div/div/div/div[2]/div/div[4]/div/div/div[2]/div[5]/div[2]/div/div/div/div/form/div/div/div[2]/div/div/div/div\")))\n",
    "element.click()"
   ]
  },
  {
   "cell_type": "code",
   "execution_count": 163,
   "metadata": {},
   "outputs": [
    {
     "name": "stdout",
     "output_type": "stream",
     "text": [
      "cute\n"
     ]
    }
   ],
   "source": [
    "# you can either take input from user or directly type your comment\n",
    "#msg = input()\n",
    "driver.switch_to.active_element.send_keys(msg)"
   ]
  },
  {
   "cell_type": "code",
   "execution_count": 164,
   "metadata": {},
   "outputs": [],
   "source": [
    "element.send_keys(Keys.ENTER)"
   ]
  },
  {
   "cell_type": "markdown",
   "metadata": {},
   "source": [
    "## Sending friend request to one of your friends"
   ]
  },
  {
   "cell_type": "code",
   "execution_count": 165,
   "metadata": {},
   "outputs": [
    {
     "name": "stdout",
     "output_type": "stream",
     "text": [
      "Reached Back To TL..\n"
     ]
    }
   ],
   "source": [
    "element = wait.until(EC.element_to_be_clickable((By.XPATH, \"/html/body/div[1]/div/div[1]/div/div[3]/div/div/div[1]/div[1]/div/div/div[4]/div[2]/div/div[2]/div[1]/div/div/div/div/div[1]/a/div[1]/div\")))\n",
    "element.click()\n",
    "sleep(5)\n",
    "print(\"Reached Back To TL..\")"
   ]
  },
  {
   "cell_type": "code",
   "execution_count": 166,
   "metadata": {},
   "outputs": [],
   "source": [
    "#put the proper username to get accurate results\n",
    "driver.get(\"https://www.facebook.com/name.surname\") #add your friends name.surname\n",
    "sleep(5)"
   ]
  },
  {
   "cell_type": "code",
   "execution_count": 167,
   "metadata": {},
   "outputs": [
    {
     "name": "stdout",
     "output_type": "stream",
     "text": [
      "Friend request sent sucessfully..\n"
     ]
    }
   ],
   "source": [
    "element = wait.until(EC.element_to_be_clickable((By.XPATH, \"/html/body/div[1]/div/div[1]/div[1]/div[3]/div/div/div[1]/div[1]/div/div/div[4]/div[1]/div/div/div/div/div/div/div/div[2]/div\")))\n",
    "element.click()\n",
    "sleep(5)\n",
    "print(\"Friend request sent sucessfully..\")"
   ]
  },
  {
   "cell_type": "markdown",
   "metadata": {},
   "source": [
    "## Logout of Facebook"
   ]
  },
  {
   "cell_type": "code",
   "execution_count": 168,
   "metadata": {},
   "outputs": [],
   "source": [
    "element = wait.until(EC.element_to_be_clickable((By.XPATH, \"/html/body/div[1]/div/div[1]/div[1]/div[2]/div[4]/div[1]/span/div/div[1]\")))\n",
    "element.click()\n",
    "element = wait.until(EC.element_to_be_clickable((By.XPATH, \"/html/body/div[1]/div/div[1]/div[1]/div[2]/div[4]/div[2]/div/div/div[1]/div[1]/div/div/div/div/div/div/div/div/div[1]/div/div[3]/div/div[4]/div\")))\n",
    "element.click()"
   ]
  }
 ],
 "metadata": {
  "kernelspec": {
   "display_name": "Python 3",
   "language": "python",
   "name": "python3"
  },
  "language_info": {
   "codemirror_mode": {
    "name": "ipython",
    "version": 3
   },
   "file_extension": ".py",
   "mimetype": "text/x-python",
   "name": "python",
   "nbconvert_exporter": "python",
   "pygments_lexer": "ipython3",
   "version": "3.8.5"
  }
 },
 "nbformat": 4,
 "nbformat_minor": 4
}
